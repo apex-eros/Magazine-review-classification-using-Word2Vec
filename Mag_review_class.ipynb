{
  "nbformat": 4,
  "nbformat_minor": 0,
  "metadata": {
    "colab": {
      "provenance": [],
      "gpuType": "T4"
    },
    "kernelspec": {
      "name": "python3",
      "display_name": "Python 3"
    },
    "language_info": {
      "name": "python"
    },
    "accelerator": "GPU"
  },
  "cells": [
    {
      "cell_type": "code",
      "execution_count": null,
      "metadata": {
        "colab": {
          "base_uri": "https://localhost:8080/"
        },
        "id": "NKx7_7XBcMj_",
        "outputId": "ffde6588-b329-4a1d-ed15-0f87a2828bd4"
      },
      "outputs": [
        {
          "output_type": "stream",
          "name": "stdout",
          "text": [
            "Requirement already satisfied: gensim in /usr/local/lib/python3.10/dist-packages (4.3.3)\n",
            "Requirement already satisfied: numpy<2.0,>=1.18.5 in /usr/local/lib/python3.10/dist-packages (from gensim) (1.26.4)\n",
            "Requirement already satisfied: scipy<1.14.0,>=1.7.0 in /usr/local/lib/python3.10/dist-packages (from gensim) (1.13.1)\n",
            "Requirement already satisfied: smart-open>=1.8.1 in /usr/local/lib/python3.10/dist-packages (from gensim) (7.0.5)\n",
            "Requirement already satisfied: wrapt in /usr/local/lib/python3.10/dist-packages (from smart-open>=1.8.1->gensim) (1.17.0)\n",
            "Collecting python-Levenshtein\n",
            "  Downloading python_Levenshtein-0.26.1-py3-none-any.whl.metadata (3.7 kB)\n",
            "Collecting Levenshtein==0.26.1 (from python-Levenshtein)\n",
            "  Downloading levenshtein-0.26.1-cp310-cp310-manylinux_2_17_x86_64.manylinux2014_x86_64.whl.metadata (3.2 kB)\n",
            "Collecting rapidfuzz<4.0.0,>=3.9.0 (from Levenshtein==0.26.1->python-Levenshtein)\n",
            "  Downloading rapidfuzz-3.10.1-cp310-cp310-manylinux_2_17_x86_64.manylinux2014_x86_64.whl.metadata (11 kB)\n",
            "Downloading python_Levenshtein-0.26.1-py3-none-any.whl (9.4 kB)\n",
            "Downloading levenshtein-0.26.1-cp310-cp310-manylinux_2_17_x86_64.manylinux2014_x86_64.whl (162 kB)\n",
            "\u001b[2K   \u001b[90m━━━━━━━━━━━━━━━━━━━━━━━━━━━━━━━━━━━━━━━━\u001b[0m \u001b[32m162.6/162.6 kB\u001b[0m \u001b[31m12.0 MB/s\u001b[0m eta \u001b[36m0:00:00\u001b[0m\n",
            "\u001b[?25hDownloading rapidfuzz-3.10.1-cp310-cp310-manylinux_2_17_x86_64.manylinux2014_x86_64.whl (3.1 MB)\n",
            "\u001b[2K   \u001b[90m━━━━━━━━━━━━━━━━━━━━━━━━━━━━━━━━━━━━━━━━\u001b[0m \u001b[32m3.1/3.1 MB\u001b[0m \u001b[31m49.4 MB/s\u001b[0m eta \u001b[36m0:00:00\u001b[0m\n",
            "\u001b[?25hInstalling collected packages: rapidfuzz, Levenshtein, python-Levenshtein\n",
            "Successfully installed Levenshtein-0.26.1 python-Levenshtein-0.26.1 rapidfuzz-3.10.1\n"
          ]
        }
      ],
      "source": [
        "!pip install gensim\n",
        "!pip install python-Levenshtein"
      ]
    },
    {
      "cell_type": "code",
      "source": [
        "import pandas as pd\n",
        "data=pd.read_json('/content/Magazine_Subscriptions.jsonl.gz',lines=True)"
      ],
      "metadata": {
        "id": "9WWitdtp-FQl"
      },
      "execution_count": null,
      "outputs": []
    },
    {
      "cell_type": "code",
      "source": [
        "data.head()"
      ],
      "metadata": {
        "colab": {
          "base_uri": "https://localhost:8080/",
          "height": 625
        },
        "id": "9KIImwZ7_ZeC",
        "outputId": "46d6f639-aa43-4e2a-9c88-3369a1f22c5f"
      },
      "execution_count": null,
      "outputs": [
        {
          "output_type": "execute_result",
          "data": {
            "text/plain": [
              "   rating                                              title  \\\n",
              "0       5                         Great pictures and recipes   \n",
              "1       4                    great for kids who love sports!   \n",
              "2       5  A great look at what's new on the kosher scene...   \n",
              "3       5  If you enjoy reading an eye-catching, easy-to-...   \n",
              "4       1                            Too many “ gear ads” !!   \n",
              "\n",
              "                                                text images        asin  \\\n",
              "0                Wonderful recipes in this magazine.     []  B00HLSSQKK   \n",
              "1  Great sports magazine that's on my 9 year olds...     []  B002PXW04Y   \n",
              "2  \"Joy of Kosher\" magazine fills a much-needed n...     []  B00HCR5090   \n",
              "3  I've been addicted to Martha Stewart's Everyda...     []  B0000ARXXS   \n",
              "4                                      Too many ads!     []  B0025ZOVEO   \n",
              "\n",
              "  parent_asin                       user_id               timestamp  \\\n",
              "0  B00HLSSQKK  AE7Y5RLYIKHOZB5NKKOEKYG2SPSQ 2020-12-15 15:29:02.433   \n",
              "1  B002PXW04Y  AHORTSSMI6ZZFUFWMPT4UFR2ISUQ 2016-08-12 03:28:32.000   \n",
              "2  B00HCR5090  AFW2PDT3AMT4X3PYQG7FJZH5FXFA 2014-04-06 23:32:53.000   \n",
              "3  B0000ARXXS  AFW2PDT3AMT4X3PYQG7FJZH5FXFA 2007-06-15 04:04:15.000   \n",
              "4  B0025ZOVEO  AFUB7CHTXRPD447QVQCHBZVN2IPQ 2020-06-01 21:24:40.246   \n",
              "\n",
              "   helpful_vote  verified_purchase  \n",
              "0             0               True  \n",
              "1             1               True  \n",
              "2             4              False  \n",
              "3             4              False  \n",
              "4            13               True  "
            ],
            "text/html": [
              "\n",
              "  <div id=\"df-fc57d008-3452-451b-8b9b-e127475a3194\" class=\"colab-df-container\">\n",
              "    <div>\n",
              "<style scoped>\n",
              "    .dataframe tbody tr th:only-of-type {\n",
              "        vertical-align: middle;\n",
              "    }\n",
              "\n",
              "    .dataframe tbody tr th {\n",
              "        vertical-align: top;\n",
              "    }\n",
              "\n",
              "    .dataframe thead th {\n",
              "        text-align: right;\n",
              "    }\n",
              "</style>\n",
              "<table border=\"1\" class=\"dataframe\">\n",
              "  <thead>\n",
              "    <tr style=\"text-align: right;\">\n",
              "      <th></th>\n",
              "      <th>rating</th>\n",
              "      <th>title</th>\n",
              "      <th>text</th>\n",
              "      <th>images</th>\n",
              "      <th>asin</th>\n",
              "      <th>parent_asin</th>\n",
              "      <th>user_id</th>\n",
              "      <th>timestamp</th>\n",
              "      <th>helpful_vote</th>\n",
              "      <th>verified_purchase</th>\n",
              "    </tr>\n",
              "  </thead>\n",
              "  <tbody>\n",
              "    <tr>\n",
              "      <th>0</th>\n",
              "      <td>5</td>\n",
              "      <td>Great pictures and recipes</td>\n",
              "      <td>Wonderful recipes in this magazine.</td>\n",
              "      <td>[]</td>\n",
              "      <td>B00HLSSQKK</td>\n",
              "      <td>B00HLSSQKK</td>\n",
              "      <td>AE7Y5RLYIKHOZB5NKKOEKYG2SPSQ</td>\n",
              "      <td>2020-12-15 15:29:02.433</td>\n",
              "      <td>0</td>\n",
              "      <td>True</td>\n",
              "    </tr>\n",
              "    <tr>\n",
              "      <th>1</th>\n",
              "      <td>4</td>\n",
              "      <td>great for kids who love sports!</td>\n",
              "      <td>Great sports magazine that's on my 9 year olds...</td>\n",
              "      <td>[]</td>\n",
              "      <td>B002PXW04Y</td>\n",
              "      <td>B002PXW04Y</td>\n",
              "      <td>AHORTSSMI6ZZFUFWMPT4UFR2ISUQ</td>\n",
              "      <td>2016-08-12 03:28:32.000</td>\n",
              "      <td>1</td>\n",
              "      <td>True</td>\n",
              "    </tr>\n",
              "    <tr>\n",
              "      <th>2</th>\n",
              "      <td>5</td>\n",
              "      <td>A great look at what's new on the kosher scene...</td>\n",
              "      <td>\"Joy of Kosher\" magazine fills a much-needed n...</td>\n",
              "      <td>[]</td>\n",
              "      <td>B00HCR5090</td>\n",
              "      <td>B00HCR5090</td>\n",
              "      <td>AFW2PDT3AMT4X3PYQG7FJZH5FXFA</td>\n",
              "      <td>2014-04-06 23:32:53.000</td>\n",
              "      <td>4</td>\n",
              "      <td>False</td>\n",
              "    </tr>\n",
              "    <tr>\n",
              "      <th>3</th>\n",
              "      <td>5</td>\n",
              "      <td>If you enjoy reading an eye-catching, easy-to-...</td>\n",
              "      <td>I've been addicted to Martha Stewart's Everyda...</td>\n",
              "      <td>[]</td>\n",
              "      <td>B0000ARXXS</td>\n",
              "      <td>B0000ARXXS</td>\n",
              "      <td>AFW2PDT3AMT4X3PYQG7FJZH5FXFA</td>\n",
              "      <td>2007-06-15 04:04:15.000</td>\n",
              "      <td>4</td>\n",
              "      <td>False</td>\n",
              "    </tr>\n",
              "    <tr>\n",
              "      <th>4</th>\n",
              "      <td>1</td>\n",
              "      <td>Too many “ gear ads” !!</td>\n",
              "      <td>Too many ads!</td>\n",
              "      <td>[]</td>\n",
              "      <td>B0025ZOVEO</td>\n",
              "      <td>B0025ZOVEO</td>\n",
              "      <td>AFUB7CHTXRPD447QVQCHBZVN2IPQ</td>\n",
              "      <td>2020-06-01 21:24:40.246</td>\n",
              "      <td>13</td>\n",
              "      <td>True</td>\n",
              "    </tr>\n",
              "  </tbody>\n",
              "</table>\n",
              "</div>\n",
              "    <div class=\"colab-df-buttons\">\n",
              "\n",
              "  <div class=\"colab-df-container\">\n",
              "    <button class=\"colab-df-convert\" onclick=\"convertToInteractive('df-fc57d008-3452-451b-8b9b-e127475a3194')\"\n",
              "            title=\"Convert this dataframe to an interactive table.\"\n",
              "            style=\"display:none;\">\n",
              "\n",
              "  <svg xmlns=\"http://www.w3.org/2000/svg\" height=\"24px\" viewBox=\"0 -960 960 960\">\n",
              "    <path d=\"M120-120v-720h720v720H120Zm60-500h600v-160H180v160Zm220 220h160v-160H400v160Zm0 220h160v-160H400v160ZM180-400h160v-160H180v160Zm440 0h160v-160H620v160ZM180-180h160v-160H180v160Zm440 0h160v-160H620v160Z\"/>\n",
              "  </svg>\n",
              "    </button>\n",
              "\n",
              "  <style>\n",
              "    .colab-df-container {\n",
              "      display:flex;\n",
              "      gap: 12px;\n",
              "    }\n",
              "\n",
              "    .colab-df-convert {\n",
              "      background-color: #E8F0FE;\n",
              "      border: none;\n",
              "      border-radius: 50%;\n",
              "      cursor: pointer;\n",
              "      display: none;\n",
              "      fill: #1967D2;\n",
              "      height: 32px;\n",
              "      padding: 0 0 0 0;\n",
              "      width: 32px;\n",
              "    }\n",
              "\n",
              "    .colab-df-convert:hover {\n",
              "      background-color: #E2EBFA;\n",
              "      box-shadow: 0px 1px 2px rgba(60, 64, 67, 0.3), 0px 1px 3px 1px rgba(60, 64, 67, 0.15);\n",
              "      fill: #174EA6;\n",
              "    }\n",
              "\n",
              "    .colab-df-buttons div {\n",
              "      margin-bottom: 4px;\n",
              "    }\n",
              "\n",
              "    [theme=dark] .colab-df-convert {\n",
              "      background-color: #3B4455;\n",
              "      fill: #D2E3FC;\n",
              "    }\n",
              "\n",
              "    [theme=dark] .colab-df-convert:hover {\n",
              "      background-color: #434B5C;\n",
              "      box-shadow: 0px 1px 3px 1px rgba(0, 0, 0, 0.15);\n",
              "      filter: drop-shadow(0px 1px 2px rgba(0, 0, 0, 0.3));\n",
              "      fill: #FFFFFF;\n",
              "    }\n",
              "  </style>\n",
              "\n",
              "    <script>\n",
              "      const buttonEl =\n",
              "        document.querySelector('#df-fc57d008-3452-451b-8b9b-e127475a3194 button.colab-df-convert');\n",
              "      buttonEl.style.display =\n",
              "        google.colab.kernel.accessAllowed ? 'block' : 'none';\n",
              "\n",
              "      async function convertToInteractive(key) {\n",
              "        const element = document.querySelector('#df-fc57d008-3452-451b-8b9b-e127475a3194');\n",
              "        const dataTable =\n",
              "          await google.colab.kernel.invokeFunction('convertToInteractive',\n",
              "                                                    [key], {});\n",
              "        if (!dataTable) return;\n",
              "\n",
              "        const docLinkHtml = 'Like what you see? Visit the ' +\n",
              "          '<a target=\"_blank\" href=https://colab.research.google.com/notebooks/data_table.ipynb>data table notebook</a>'\n",
              "          + ' to learn more about interactive tables.';\n",
              "        element.innerHTML = '';\n",
              "        dataTable['output_type'] = 'display_data';\n",
              "        await google.colab.output.renderOutput(dataTable, element);\n",
              "        const docLink = document.createElement('div');\n",
              "        docLink.innerHTML = docLinkHtml;\n",
              "        element.appendChild(docLink);\n",
              "      }\n",
              "    </script>\n",
              "  </div>\n",
              "\n",
              "\n",
              "<div id=\"df-67c27e69-c8f3-4a7c-b6c7-8413bc86c092\">\n",
              "  <button class=\"colab-df-quickchart\" onclick=\"quickchart('df-67c27e69-c8f3-4a7c-b6c7-8413bc86c092')\"\n",
              "            title=\"Suggest charts\"\n",
              "            style=\"display:none;\">\n",
              "\n",
              "<svg xmlns=\"http://www.w3.org/2000/svg\" height=\"24px\"viewBox=\"0 0 24 24\"\n",
              "     width=\"24px\">\n",
              "    <g>\n",
              "        <path d=\"M19 3H5c-1.1 0-2 .9-2 2v14c0 1.1.9 2 2 2h14c1.1 0 2-.9 2-2V5c0-1.1-.9-2-2-2zM9 17H7v-7h2v7zm4 0h-2V7h2v10zm4 0h-2v-4h2v4z\"/>\n",
              "    </g>\n",
              "</svg>\n",
              "  </button>\n",
              "\n",
              "<style>\n",
              "  .colab-df-quickchart {\n",
              "      --bg-color: #E8F0FE;\n",
              "      --fill-color: #1967D2;\n",
              "      --hover-bg-color: #E2EBFA;\n",
              "      --hover-fill-color: #174EA6;\n",
              "      --disabled-fill-color: #AAA;\n",
              "      --disabled-bg-color: #DDD;\n",
              "  }\n",
              "\n",
              "  [theme=dark] .colab-df-quickchart {\n",
              "      --bg-color: #3B4455;\n",
              "      --fill-color: #D2E3FC;\n",
              "      --hover-bg-color: #434B5C;\n",
              "      --hover-fill-color: #FFFFFF;\n",
              "      --disabled-bg-color: #3B4455;\n",
              "      --disabled-fill-color: #666;\n",
              "  }\n",
              "\n",
              "  .colab-df-quickchart {\n",
              "    background-color: var(--bg-color);\n",
              "    border: none;\n",
              "    border-radius: 50%;\n",
              "    cursor: pointer;\n",
              "    display: none;\n",
              "    fill: var(--fill-color);\n",
              "    height: 32px;\n",
              "    padding: 0;\n",
              "    width: 32px;\n",
              "  }\n",
              "\n",
              "  .colab-df-quickchart:hover {\n",
              "    background-color: var(--hover-bg-color);\n",
              "    box-shadow: 0 1px 2px rgba(60, 64, 67, 0.3), 0 1px 3px 1px rgba(60, 64, 67, 0.15);\n",
              "    fill: var(--button-hover-fill-color);\n",
              "  }\n",
              "\n",
              "  .colab-df-quickchart-complete:disabled,\n",
              "  .colab-df-quickchart-complete:disabled:hover {\n",
              "    background-color: var(--disabled-bg-color);\n",
              "    fill: var(--disabled-fill-color);\n",
              "    box-shadow: none;\n",
              "  }\n",
              "\n",
              "  .colab-df-spinner {\n",
              "    border: 2px solid var(--fill-color);\n",
              "    border-color: transparent;\n",
              "    border-bottom-color: var(--fill-color);\n",
              "    animation:\n",
              "      spin 1s steps(1) infinite;\n",
              "  }\n",
              "\n",
              "  @keyframes spin {\n",
              "    0% {\n",
              "      border-color: transparent;\n",
              "      border-bottom-color: var(--fill-color);\n",
              "      border-left-color: var(--fill-color);\n",
              "    }\n",
              "    20% {\n",
              "      border-color: transparent;\n",
              "      border-left-color: var(--fill-color);\n",
              "      border-top-color: var(--fill-color);\n",
              "    }\n",
              "    30% {\n",
              "      border-color: transparent;\n",
              "      border-left-color: var(--fill-color);\n",
              "      border-top-color: var(--fill-color);\n",
              "      border-right-color: var(--fill-color);\n",
              "    }\n",
              "    40% {\n",
              "      border-color: transparent;\n",
              "      border-right-color: var(--fill-color);\n",
              "      border-top-color: var(--fill-color);\n",
              "    }\n",
              "    60% {\n",
              "      border-color: transparent;\n",
              "      border-right-color: var(--fill-color);\n",
              "    }\n",
              "    80% {\n",
              "      border-color: transparent;\n",
              "      border-right-color: var(--fill-color);\n",
              "      border-bottom-color: var(--fill-color);\n",
              "    }\n",
              "    90% {\n",
              "      border-color: transparent;\n",
              "      border-bottom-color: var(--fill-color);\n",
              "    }\n",
              "  }\n",
              "</style>\n",
              "\n",
              "  <script>\n",
              "    async function quickchart(key) {\n",
              "      const quickchartButtonEl =\n",
              "        document.querySelector('#' + key + ' button');\n",
              "      quickchartButtonEl.disabled = true;  // To prevent multiple clicks.\n",
              "      quickchartButtonEl.classList.add('colab-df-spinner');\n",
              "      try {\n",
              "        const charts = await google.colab.kernel.invokeFunction(\n",
              "            'suggestCharts', [key], {});\n",
              "      } catch (error) {\n",
              "        console.error('Error during call to suggestCharts:', error);\n",
              "      }\n",
              "      quickchartButtonEl.classList.remove('colab-df-spinner');\n",
              "      quickchartButtonEl.classList.add('colab-df-quickchart-complete');\n",
              "    }\n",
              "    (() => {\n",
              "      let quickchartButtonEl =\n",
              "        document.querySelector('#df-67c27e69-c8f3-4a7c-b6c7-8413bc86c092 button');\n",
              "      quickchartButtonEl.style.display =\n",
              "        google.colab.kernel.accessAllowed ? 'block' : 'none';\n",
              "    })();\n",
              "  </script>\n",
              "</div>\n",
              "\n",
              "    </div>\n",
              "  </div>\n"
            ],
            "application/vnd.google.colaboratory.intrinsic+json": {
              "type": "dataframe",
              "variable_name": "data",
              "summary": "{\n  \"name\": \"data\",\n  \"rows\": 71497,\n  \"fields\": [\n    {\n      \"column\": \"rating\",\n      \"properties\": {\n        \"dtype\": \"number\",\n        \"std\": 1,\n        \"min\": 1,\n        \"max\": 5,\n        \"num_unique_values\": 5,\n        \"samples\": [\n          4,\n          3,\n          1\n        ],\n        \"semantic_type\": \"\",\n        \"description\": \"\"\n      }\n    },\n    {\n      \"column\": \"title\",\n      \"properties\": {\n        \"dtype\": \"string\",\n        \"num_unique_values\": 44022,\n        \"samples\": [\n          \"I like an interesting mix of things also wierd n cooky always works\",\n          \"Maximum Bozo\",\n          \"Beautiful fashion magazine, subscription never materialized\"\n        ],\n        \"semantic_type\": \"\",\n        \"description\": \"\"\n      }\n    },\n    {\n      \"column\": \"text\",\n      \"properties\": {\n        \"dtype\": \"string\",\n        \"num_unique_values\": 65233,\n        \"samples\": [\n          \"I've been a Sunset subscriber off and on for years. They are the most well-regarded magazine out here in California, for gardeners, cooks and do it your-selfers.<br /><br />  Each issue offers a regional spotlight, offering travel, lodging and special interest activities. It's a great resource for anyone looking for perhaps a different area to visit.<br /><br />  The cooks section is always great and usually I can find at least 4 recipes to use in my kitchen each issue. Sunset also offers their recipe annuals, which have become treasured favorites in my kitchen. These hardbound books are a compilation of all Sunsets recipes. For those that love bread baking, Sunset offers some simply awesome bread recipes. All recipes are tested first in Sunsets' kitchens, before publication.<br /><br />  Sunsets garden section contains monthly tips and reminders for doing seasonal chores. The planting guides are a novice gardeners best friend. Every issue devotes itself to between two and three garden projects-offered step by step, and again-only after being tested in Sunsets own gardens.<br /><br />  Add to that the many great home design feature and projects, you get a magazine worth 3 times the amount they charge. If you've never tried Sunset magazine, I can honestly say you're in for a treat.\",\n          \"good price\",\n          \"I ordered this for my husband for valentines day...It's now April...no magazine : ((<br />Not very happy at all..but will wait one more month before I ask for my money back.\"\n        ],\n        \"semantic_type\": \"\",\n        \"description\": \"\"\n      }\n    },\n    {\n      \"column\": \"images\",\n      \"properties\": {\n        \"dtype\": \"object\",\n        \"semantic_type\": \"\",\n        \"description\": \"\"\n      }\n    },\n    {\n      \"column\": \"asin\",\n      \"properties\": {\n        \"dtype\": \"category\",\n        \"num_unique_values\": 3391,\n        \"samples\": [\n          \"B002PXVYSC\",\n          \"B001W8Q9O0\",\n          \"B00006K452\"\n        ],\n        \"semantic_type\": \"\",\n        \"description\": \"\"\n      }\n    },\n    {\n      \"column\": \"parent_asin\",\n      \"properties\": {\n        \"dtype\": \"category\",\n        \"num_unique_values\": 3391,\n        \"samples\": [\n          \"B002PXVYSC\",\n          \"B001W8Q9O0\",\n          \"B00006K452\"\n        ],\n        \"semantic_type\": \"\",\n        \"description\": \"\"\n      }\n    },\n    {\n      \"column\": \"user_id\",\n      \"properties\": {\n        \"dtype\": \"string\",\n        \"num_unique_values\": 60144,\n        \"samples\": [\n          \"AHGDUGE2ADJGQCN2ZKQZINN3KKFQ\",\n          \"AEZ2ECFVOGB64MCYV74V3POSIROQ\",\n          \"AGHU5PP3OCAMCA6CZCNVUFGYYU2Q\"\n        ],\n        \"semantic_type\": \"\",\n        \"description\": \"\"\n      }\n    },\n    {\n      \"column\": \"timestamp\",\n      \"properties\": {\n        \"dtype\": \"date\",\n        \"min\": \"2001-10-26 19:41:06\",\n        \"max\": \"2023-08-15 21:57:59.736000\",\n        \"num_unique_values\": 70913,\n        \"samples\": [\n          \"2018-12-28 19:59:07.723000\",\n          \"2019-08-01 14:39:24.586000\",\n          \"2015-08-13 21:48:00\"\n        ],\n        \"semantic_type\": \"\",\n        \"description\": \"\"\n      }\n    },\n    {\n      \"column\": \"helpful_vote\",\n      \"properties\": {\n        \"dtype\": \"number\",\n        \"std\": 30,\n        \"min\": 0,\n        \"max\": 2169,\n        \"num_unique_values\": 364,\n        \"samples\": [\n          122,\n          433,\n          25\n        ],\n        \"semantic_type\": \"\",\n        \"description\": \"\"\n      }\n    },\n    {\n      \"column\": \"verified_purchase\",\n      \"properties\": {\n        \"dtype\": \"boolean\",\n        \"num_unique_values\": 2,\n        \"samples\": [\n          false,\n          true\n        ],\n        \"semantic_type\": \"\",\n        \"description\": \"\"\n      }\n    }\n  ]\n}"
            }
          },
          "metadata": {},
          "execution_count": 3
        }
      ]
    },
    {
      "cell_type": "code",
      "source": [
        "data.text[0]"
      ],
      "metadata": {
        "colab": {
          "base_uri": "https://localhost:8080/",
          "height": 36
        },
        "id": "kamVZEPU_dd4",
        "outputId": "7c03b85a-92b5-4414-bc85-c185fada584e"
      },
      "execution_count": null,
      "outputs": [
        {
          "output_type": "execute_result",
          "data": {
            "text/plain": [
              "'Wonderful recipes in this magazine.'"
            ],
            "application/vnd.google.colaboratory.intrinsic+json": {
              "type": "string"
            }
          },
          "metadata": {},
          "execution_count": 4
        }
      ]
    },
    {
      "cell_type": "code",
      "source": [
        "import gensim\n",
        "data.text = data.text.apply(gensim.utils.simple_preprocess)"
      ],
      "metadata": {
        "id": "Py9IxhDs_2eF"
      },
      "execution_count": null,
      "outputs": []
    },
    {
      "cell_type": "code",
      "source": [
        "data.text[0]"
      ],
      "metadata": {
        "colab": {
          "base_uri": "https://localhost:8080/"
        },
        "id": "mymyKS9SAFSc",
        "outputId": "6e7bd0eb-1e71-4901-c0ac-4ee8398dc487"
      },
      "execution_count": null,
      "outputs": [
        {
          "output_type": "execute_result",
          "data": {
            "text/plain": [
              "['wonderful', 'recipes', 'in', 'this', 'magazine']"
            ]
          },
          "metadata": {},
          "execution_count": 6
        }
      ]
    },
    {
      "cell_type": "code",
      "source": [
        "data.shape"
      ],
      "metadata": {
        "colab": {
          "base_uri": "https://localhost:8080/"
        },
        "id": "AbvLe5xUGE08",
        "outputId": "9e091579-1c77-44b9-b6c4-6160b5da202b"
      },
      "execution_count": null,
      "outputs": [
        {
          "output_type": "execute_result",
          "data": {
            "text/plain": [
              "(71497, 10)"
            ]
          },
          "metadata": {},
          "execution_count": 7
        }
      ]
    },
    {
      "cell_type": "code",
      "source": [
        "import spacy\n",
        "\n",
        "# Load the spaCy English model\n",
        "nlp = spacy.load(\"en_core_web_sm\")\n",
        "\n",
        "# Function to remove stopwords\n",
        "def remove_stopwords(tokens):\n",
        "    # Convert list of tokens into a spaCy Doc\n",
        "    doc = nlp(\" \".join(tokens))\n",
        "    # Filter out stopwords and return the remaining tokens as a list\n",
        "    return [token.text for token in doc if not token.is_stop]\n",
        "\n",
        "# Function to lemmatize tokens\n",
        "def lemmatize_tokens(tokens):\n",
        "    # Convert list of tokens into a spaCy Doc\n",
        "    doc = nlp(\" \".join(tokens))\n",
        "    # Extract lemmatized tokens and return as a list\n",
        "    return [token.lemma_ for token in doc if not token.is_stop]\n",
        "\n",
        "# Apply the stopword removal function to the 'text' column\n",
        "data['text_no_stopwords'] = data.text.apply(remove_stopwords)\n",
        "\n",
        "# Apply lemmatization to the 'text_no_stopwords' column\n",
        "data['text_lemmatized'] = data.text_no_stopwords.apply(lemmatize_tokens)\n",
        "\n",
        "# Display the results\n",
        "print(data[['text', 'text_no_stopwords', 'text_lemmatized']].head())"
      ],
      "metadata": {
        "colab": {
          "base_uri": "https://localhost:8080/"
        },
        "id": "TWrujLaGAPnr",
        "outputId": "6364baae-a233-4040-d3d3-d835021d9f48"
      },
      "execution_count": null,
      "outputs": [
        {
          "output_type": "stream",
          "name": "stdout",
          "text": [
            "                                                text  \\\n",
            "0           [wonderful, recipes, in, this, magazine]   \n",
            "1  [great, sports, magazine, that, on, my, year, ...   \n",
            "2  [joy, of, kosher, magazine, fills, much, neede...   \n",
            "3  [ve, been, addicted, to, martha, stewart, ever...   \n",
            "4                                   [too, many, ads]   \n",
            "\n",
            "                                   text_no_stopwords  \\\n",
            "0                     [wonderful, recipes, magazine]   \n",
            "1       [great, sports, magazine, year, olds, level]   \n",
            "2  [joy, kosher, magazine, fills, needed, niche, ...   \n",
            "3  [ve, addicted, martha, stewart, everyday, food...   \n",
            "4                                              [ads]   \n",
            "\n",
            "                                     text_lemmatized  \n",
            "0                      [wonderful, recipe, magazine]  \n",
            "1         [great, sport, magazine, year, old, level]  \n",
            "2  [joy, kosher, magazine, fill, need, niche, kos...  \n",
            "3  [ve, addict, martha, stewart, everyday, food, ...  \n",
            "4                                               [ad]  \n"
          ]
        }
      ]
    },
    {
      "cell_type": "code",
      "source": [
        "from gensim.models import Word2Vec\n",
        "\n",
        "# Train Word2Vec on lemmatized text\n",
        "word2vec_model = Word2Vec(\n",
        "    window=5,\n",
        "    min_count=2,\n",
        "    workers=4\n",
        ")\n",
        "\n",
        "# Save Word2Vec model for future use\n",
        "word2vec_model.save(\"word2vec_model.model\")"
      ],
      "metadata": {
        "id": "eCpI2d0HGIhg"
      },
      "execution_count": null,
      "outputs": []
    },
    {
      "cell_type": "code",
      "source": [
        "word2vec_model.build_vocab(data.text_lemmatized)\n",
        "word2vec_model.train(data.text_lemmatized,total_examples=word2vec_model.corpus_count,epochs=word2vec_model.epochs)"
      ],
      "metadata": {
        "colab": {
          "base_uri": "https://localhost:8080/"
        },
        "id": "pAnSDUimy6Nw",
        "outputId": "6cdc6773-37b0-4e47-da2d-86f964da5089"
      },
      "execution_count": null,
      "outputs": [
        {
          "output_type": "execute_result",
          "data": {
            "text/plain": [
              "(5157235, 6237490)"
            ]
          },
          "metadata": {},
          "execution_count": 20
        }
      ]
    },
    {
      "cell_type": "code",
      "source": [
        "import numpy as np\n",
        "\n",
        "# Function to get the average word vector for a text\n",
        "def get_avg_word2vec(tokens, model, vector_size):\n",
        "    # Filter tokens that exist in the Word2Vec vocabulary\n",
        "    valid_tokens = [token for token in tokens if token in model.wv]\n",
        "    if len(valid_tokens) == 0:\n",
        "        return np.zeros(vector_size)  # Return a zero vector if no valid tokens\n",
        "    return np.mean(model.wv[valid_tokens], axis=0)\n",
        "\n",
        "# Apply to the dataset\n",
        "data['text_vector'] = data.text_lemmatized.apply(\n",
        "    lambda x: get_avg_word2vec(x, word2vec_model, vector_size=100)\n",
        ")"
      ],
      "metadata": {
        "id": "NziA6Z4bK4SF"
      },
      "execution_count": null,
      "outputs": []
    },
    {
      "cell_type": "code",
      "source": [
        "data['rating'].value_counts()"
      ],
      "metadata": {
        "colab": {
          "base_uri": "https://localhost:8080/",
          "height": 272
        },
        "id": "pth6xC7ILieM",
        "outputId": "5fea52ff-940e-4b71-d23b-80133284d312"
      },
      "execution_count": null,
      "outputs": [
        {
          "output_type": "execute_result",
          "data": {
            "text/plain": [
              "rating\n",
              "5    44620\n",
              "1     9685\n",
              "4     8206\n",
              "3     5033\n",
              "2     3953\n",
              "Name: count, dtype: int64"
            ],
            "text/html": [
              "<div>\n",
              "<style scoped>\n",
              "    .dataframe tbody tr th:only-of-type {\n",
              "        vertical-align: middle;\n",
              "    }\n",
              "\n",
              "    .dataframe tbody tr th {\n",
              "        vertical-align: top;\n",
              "    }\n",
              "\n",
              "    .dataframe thead th {\n",
              "        text-align: right;\n",
              "    }\n",
              "</style>\n",
              "<table border=\"1\" class=\"dataframe\">\n",
              "  <thead>\n",
              "    <tr style=\"text-align: right;\">\n",
              "      <th></th>\n",
              "      <th>count</th>\n",
              "    </tr>\n",
              "    <tr>\n",
              "      <th>rating</th>\n",
              "      <th></th>\n",
              "    </tr>\n",
              "  </thead>\n",
              "  <tbody>\n",
              "    <tr>\n",
              "      <th>5</th>\n",
              "      <td>44620</td>\n",
              "    </tr>\n",
              "    <tr>\n",
              "      <th>1</th>\n",
              "      <td>9685</td>\n",
              "    </tr>\n",
              "    <tr>\n",
              "      <th>4</th>\n",
              "      <td>8206</td>\n",
              "    </tr>\n",
              "    <tr>\n",
              "      <th>3</th>\n",
              "      <td>5033</td>\n",
              "    </tr>\n",
              "    <tr>\n",
              "      <th>2</th>\n",
              "      <td>3953</td>\n",
              "    </tr>\n",
              "  </tbody>\n",
              "</table>\n",
              "</div><br><label><b>dtype:</b> int64</label>"
            ]
          },
          "metadata": {},
          "execution_count": 21
        }
      ]
    },
    {
      "cell_type": "code",
      "source": [
        "from sklearn.ensemble import RandomForestClassifier\n",
        "from sklearn.tree import DecisionTreeClassifier\n",
        "from sklearn.metrics import classification_report,accuracy_score\n",
        "from sklearn.model_selection import train_test_split\n",
        "from imblearn.over_sampling import SMOTE\n",
        "from sklearn.linear_model import LogisticRegression\n",
        "from sklearn.naive_bayes import GaussianNB\n",
        "# Features (X) and target (y)\n",
        "X = np.stack(data['text_vector'].values)  # Stack vectors into a matrix\n",
        "y = data['rating']  # Assuming 'ratings' is your target column\n",
        "\n",
        "# Split into training and test sets\n",
        "X_train, X_test, y_train, y_test = train_test_split(X, y, test_size=0.2, random_state=42,stratify=y)\n",
        "\n",
        "smote = SMOTE(random_state=42)\n",
        "X_train_smote, y_train_smote = smote.fit_resample(X_train, y_train)\n",
        "\n",
        "# Check the new distribution of the training data\n",
        "print(f\"Original dataset shape: {y_train.value_counts()}\")\n",
        "print(f\"Resampled dataset shape: {y_train_smote.value_counts()}\")"
      ],
      "metadata": {
        "colab": {
          "base_uri": "https://localhost:8080/"
        },
        "id": "3lweaOXRLErZ",
        "outputId": "86ebe3ba-766b-4ba8-94b3-6f1310282fbd"
      },
      "execution_count": null,
      "outputs": [
        {
          "output_type": "stream",
          "name": "stdout",
          "text": [
            "Original dataset shape: rating\n",
            "5    35696\n",
            "1     7748\n",
            "4     6565\n",
            "3     4026\n",
            "2     3162\n",
            "Name: count, dtype: int64\n",
            "Resampled dataset shape: rating\n",
            "5    35696\n",
            "2    35696\n",
            "1    35696\n",
            "3    35696\n",
            "4    35696\n",
            "Name: count, dtype: int64\n"
          ]
        }
      ]
    },
    {
      "cell_type": "code",
      "source": [
        "#LOGISTIC REGRESSION\n",
        "classifier = LogisticRegression(max_iter=1000)\n",
        "classifier.fit(X_train_smote, y_train_smote)\n",
        "\n",
        "# Make predictions\n",
        "y_pred = classifier.predict(X_test)\n",
        "\n",
        "# Evaluate the model\n",
        "print(\"Accuracy:\", accuracy_score(y_test, y_pred))\n",
        "print(\"Classification Report:\\n\", classification_report(y_test, y_pred))"
      ],
      "metadata": {
        "colab": {
          "base_uri": "https://localhost:8080/"
        },
        "id": "T5j8w5IhLJwp",
        "outputId": "deea3892-2901-406e-f989-57c923faba66"
      },
      "execution_count": null,
      "outputs": [
        {
          "output_type": "stream",
          "name": "stdout",
          "text": [
            "Accuracy: 0.5376223776223776\n",
            "Classification Report:\n",
            "               precision    recall  f1-score   support\n",
            "\n",
            "           1       0.53      0.58      0.55      1937\n",
            "           2       0.18      0.35      0.24       791\n",
            "           3       0.20      0.30      0.24      1007\n",
            "           4       0.19      0.35      0.25      1641\n",
            "           5       0.89      0.61      0.72      8924\n",
            "\n",
            "    accuracy                           0.54     14300\n",
            "   macro avg       0.40      0.44      0.40     14300\n",
            "weighted avg       0.67      0.54      0.58     14300\n",
            "\n"
          ]
        }
      ]
    },
    {
      "cell_type": "code",
      "source": [
        "#RANDOM FOREST\n",
        "rf_classifier = RandomForestClassifier(n_estimators=50, random_state=42,criterion='entropy')\n",
        "rf_classifier.fit(X_train_smote, y_train_smote)\n",
        "y_pred_rf = rf_classifier.predict(X_test)\n",
        "print(\"Random Forest Accuracy:\", accuracy_score(y_test, y_pred_rf))\n",
        "print(\"Classification Report:\\n\", classification_report(y_test, y_pred_rf))"
      ],
      "metadata": {
        "colab": {
          "base_uri": "https://localhost:8080/"
        },
        "id": "_SKlRLNOLM6R",
        "outputId": "97236a2f-a35c-4d67-d74a-a49d18bd1c01"
      },
      "execution_count": null,
      "outputs": [
        {
          "output_type": "stream",
          "name": "stdout",
          "text": [
            "Random Forest Accuracy: 0.6352447552447552\n",
            "Classification Report:\n",
            "               precision    recall  f1-score   support\n",
            "\n",
            "           1       0.53      0.66      0.59      1937\n",
            "           2       0.22      0.22      0.22       791\n",
            "           3       0.24      0.24      0.24      1007\n",
            "           4       0.22      0.21      0.21      1641\n",
            "           5       0.83      0.79      0.81      8924\n",
            "\n",
            "    accuracy                           0.64     14300\n",
            "   macro avg       0.41      0.42      0.41     14300\n",
            "weighted avg       0.64      0.64      0.64     14300\n",
            "\n"
          ]
        }
      ]
    },
    {
      "cell_type": "code",
      "source": [
        "# Preprocess the new sentence\n",
        "new_sentence = \"The magazine is excellent and I enjoy reading it.\"  # Example input\n",
        "tokens = gensim.utils.simple_preprocess(new_sentence)  # Tokenize\n",
        "tokens_no_stopwords = remove_stopwords(tokens)  # Remove stopwords\n",
        "tokens_lemmatized = lemmatize_tokens(tokens_no_stopwords)  # Lemmatize\n",
        "\n",
        "# Convert the preprocessed sentence to a vector\n",
        "new_vector = np.mean([word2vec_model.wv[word] for word in tokens_lemmatized if word in word2vec_model.wv], axis=0).reshape(1, -1)\n",
        "\n",
        "# Predict the rating\n",
        "predicted_rating = rf_classifier.predict(new_vector)\n",
        "print(f\"Predicted Rating: {predicted_rating[0]}\")"
      ],
      "metadata": {
        "id": "K7kvu65uTvzQ",
        "outputId": "d978484f-7e42-49ac-f4d9-3fc669d87922",
        "colab": {
          "base_uri": "https://localhost:8080/"
        }
      },
      "execution_count": null,
      "outputs": [
        {
          "output_type": "stream",
          "name": "stdout",
          "text": [
            "Predicted Rating: 5\n"
          ]
        }
      ]
    },
    {
      "cell_type": "code",
      "source": [
        "# Preprocess the new sentence\n",
        "new_sentence = \"The magazine is rubbish and is too bias towards media.Never ever gonna read it again.Worst magazine\"  # Example input\n",
        "tokens = gensim.utils.simple_preprocess(new_sentence)  # Tokenize\n",
        "tokens_no_stopwords = remove_stopwords(tokens)  # Remove stopwords\n",
        "tokens_lemmatized = lemmatize_tokens(tokens_no_stopwords)  # Lemmatize\n",
        "\n",
        "# Convert the preprocessed sentence to a vector\n",
        "new_vector = np.mean([word2vec_model.wv[word] for word in tokens_lemmatized if word in word2vec_model.wv], axis=0).reshape(1, -1)\n",
        "\n",
        "# Predict the rating\n",
        "predicted_rating = rf_classifier.predict(new_vector)\n",
        "print(f\"Predicted Rating: {predicted_rating[0]}\")"
      ],
      "metadata": {
        "id": "stf8vvc3U047",
        "outputId": "cf7b2e27-b711-4dec-9094-d521afe05602",
        "colab": {
          "base_uri": "https://localhost:8080/"
        }
      },
      "execution_count": null,
      "outputs": [
        {
          "output_type": "stream",
          "name": "stdout",
          "text": [
            "Predicted Rating: 1\n"
          ]
        }
      ]
    },
    {
      "cell_type": "code",
      "source": [
        "#DECISION TREE\n",
        "dt=DecisionTreeClassifier(criterion='entropy',random_state=42)\n",
        "dt.fit(X_train_smote, y_train_smote)\n",
        "y_pred_dt=dt.predict(X_test)\n",
        "print(\"Decision Tree Accuracy:\", accuracy_score(y_test, y_pred_dt))\n",
        "print(\"Classification Report:\\n\", classification_report(y_test, y_pred_dt))"
      ],
      "metadata": {
        "colab": {
          "base_uri": "https://localhost:8080/"
        },
        "id": "rnN1VRWPLQ9E",
        "outputId": "b14529df-66a3-44b5-d584-f66ffcef5153"
      },
      "execution_count": null,
      "outputs": [
        {
          "output_type": "stream",
          "name": "stdout",
          "text": [
            "Decision Tree Accuracy: 0.5013986013986014\n",
            "Classification Report:\n",
            "               precision    recall  f1-score   support\n",
            "\n",
            "           1       0.45      0.45      0.45      1937\n",
            "           2       0.15      0.24      0.19       791\n",
            "           3       0.15      0.25      0.19      1007\n",
            "           4       0.17      0.28      0.21      1641\n",
            "           5       0.81      0.61      0.69      8924\n",
            "\n",
            "    accuracy                           0.50     14300\n",
            "   macro avg       0.34      0.36      0.34     14300\n",
            "weighted avg       0.60      0.50      0.54     14300\n",
            "\n"
          ]
        }
      ]
    },
    {
      "cell_type": "code",
      "source": [],
      "metadata": {
        "id": "HvRw70pBQ0gH"
      },
      "execution_count": null,
      "outputs": []
    }
  ]
}